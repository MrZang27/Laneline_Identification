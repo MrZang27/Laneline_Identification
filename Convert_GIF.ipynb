{
 "cells": [
  {
   "cell_type": "code",
   "execution_count": 1,
   "metadata": {},
   "outputs": [],
   "source": [
    "from PIL import Image\n",
    "import os"
   ]
  },
  {
   "cell_type": "code",
   "execution_count": 3,
   "metadata": {},
   "outputs": [],
   "source": [
    "def create_gif(image_folder, output_file, duration=500, loop=0):\n",
    "    \"\"\"\n",
    "    将文件夹中的多张图片合成为 GIF 动画。\n",
    "\n",
    "    :param image_folder: 包含 JPG 图片的文件夹路径\n",
    "    :param output_file: 输出 GIF 文件路径\n",
    "    :param duration: 每帧持续时间（毫秒）\n",
    "    :param loop: 循环次数，0 表示无限循环\n",
    "    \"\"\"\n",
    "    # 获取文件夹中的所有图片文件，并按文件名排序\n",
    "    images = sorted(\n",
    "        [os.path.join(image_folder, file) for file in os.listdir(image_folder) if file.endswith('.jpg')]\n",
    "    )\n",
    "\n",
    "    # 打开所有图片\n",
    "    frames = [Image.open(image) for image in images]\n",
    "\n",
    "    # 将图片保存为 GIF\n",
    "    frames[0].save(\n",
    "        output_file,\n",
    "        save_all=True,\n",
    "        append_images=frames[1:],\n",
    "        duration=duration,\n",
    "        loop=loop\n",
    "    )\n",
    "\n",
    "    print(f\"GIF 动画已保存至 {output_file}\")\n",
    "\n",
    "\n"
   ]
  },
  {
   "cell_type": "code",
   "execution_count": null,
   "metadata": {},
   "outputs": [
    {
     "name": "stdout",
     "output_type": "stream",
     "text": [
      "GIF 动画已保存至 output.gif\n"
     ]
    }
   ],
   "source": [
    "result_image_folder = \"./result_images/\"  # JPG 图片文件夹路径\n",
    "\n",
    "output_file = \"output.gif\"          # 输出 GIF 文件路径\n",
    "\n",
    "create_gif(result_image_folder, output_file, duration=300, loop=0)"
   ]
  }
 ],
 "metadata": {
  "kernelspec": {
   "display_name": "Python 3",
   "language": "python",
   "name": "python3"
  },
  "language_info": {
   "codemirror_mode": {
    "name": "ipython",
    "version": 3
   },
   "file_extension": ".py",
   "mimetype": "text/x-python",
   "name": "python",
   "nbconvert_exporter": "python",
   "pygments_lexer": "ipython3",
   "version": "3.9.11"
  }
 },
 "nbformat": 4,
 "nbformat_minor": 2
}
